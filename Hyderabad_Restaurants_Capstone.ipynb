{
    "cells": [
        {
            "metadata": {},
            "cell_type": "markdown",
            "source": "## Exploring best places to Hangout in Hyderabad, India"
        },
        {
            "metadata": {},
            "cell_type": "markdown",
            "source": "### Table of Contents\n\n* [Introduction](#introduction)\n* [Data Collection](#data_collection)\n* [Data Cleaning](#data_cleaning)\n* [Methodolgy](#methodology)\n* [Analysis](#analysis)\n* [Results and Discussion](#results)\n* [Conclusion](#conclusion)"
        },
        {
            "metadata": {},
            "cell_type": "markdown",
            "source": "### Introduction <a name=\"introduction\"></a>\n\nThe Goal is to identify the best restaurants, cafe etc., in `Hyderabad based on their ratings and average prices.`\nWe will be getting information about the places in Hyderabad using `Four Square API` for getting places near-by  and `ZOMATO API` for getting the ratings and average prices to help visitors for selecting the best restaurant that suits them.\n\nFor Example if a user is visiting a city they start looking for places to visit during stay.They mainly look for places based on the venue ratings across all venues and the average prices such that the location fits in their budget.\n\nHere we will be `Identifying the places that are fit for various individuals` based on the information obtained from the two APIs and Data Science.\n"
        },
        {
            "metadata": {},
            "cell_type": "markdown",
            "source": "### Data Collection  <a name=\"data_collection\"></a>\n\nWe will have a look at Hyderabad Map. As most of the people will be staying at places near by ameerpet.In this use case i will be concentrating on the places near by **Ameerpet(17.4375\u00b0 N, 78.4482\u00b0 E)** So that a lot people will be getting benefitted.\n\nWe will fetch data from 2 APIs:\n\n* **FourSquare API :** We will use the Foursquare API to fetch venues in Hyderabad starting from Ameerpet to 20Kms in each direction.\n* **Zomato API :** The Zomato API provides details about various venues including the address, ratings, average proce for two poeple etc..,\n"
        },
        {
            "metadata": {},
            "cell_type": "markdown",
            "source": "###  Hyderabad\nHyderabad is the best place to explore and also it is one of the best place especially when it comes to varieties of Food(Restaurants,hotels etc..,)\n\nHere we are restricting to the Ameerpet(one of the place with huge crowd)."
        },
        {
            "metadata": {},
            "cell_type": "code",
            "source": "",
            "execution_count": null,
            "outputs": []
        }
    ],
    "metadata": {
        "kernelspec": {
            "name": "python3",
            "display_name": "Python 3.6",
            "language": "python"
        },
        "language_info": {
            "name": "python",
            "version": "3.6.8",
            "mimetype": "text/x-python",
            "codemirror_mode": {
                "name": "ipython",
                "version": 3
            },
            "pygments_lexer": "ipython3",
            "nbconvert_exporter": "python",
            "file_extension": ".py"
        }
    },
    "nbformat": 4,
    "nbformat_minor": 1
}